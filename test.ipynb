{
 "cells": [
  {
   "cell_type": "code",
   "execution_count": 7,
   "metadata": {},
   "outputs": [],
   "source": [
    "import pandas as pd\n",
    "import numpy as np\n",
    "\n",
    "\n",
    "ini_concen = [5.007640852 ,5.111867897 ,5.097574011, 19.9202836]\n",
    "eq_concen_0 = [5.004908164,\t5.00113638,\t4.872834517,18.89704094]\n",
    "skip_indices = []\n",
    "delta_0= []\n",
    "increase_0 = []\n",
    "eq_concen_1 = []\n",
    "delta_1 = []\n",
    "increase_1 = []\n",
    "eq_concen_2 = []\n",
    "delta_2 = []\n",
    "increase_2 = []\n",
    "eq_concen_3 = []\n",
    "delta_3 = []\n",
    "increase_3 = []\n",
    "eq_concen_4 = []\n",
    "\n",
    "for a, b in zip(ini_concen, eq_concen_0): # 各组分吸附前后浓度变化值\n",
    "    delta_0.append(a - b)\n",
    "filtered_delta_0 = [value for i, value in enumerate(delta_0) if i not in skip_indices] # 筛选出除跳过的索引外的delta值\n",
    "corr_value_0 = max(filtered_delta_0) # 筛选出的delta中的最大值\n",
    "skip_index_0 = delta_0.index(corr_value_0) # 找到最大值在原list中的索引\n",
    "skip_indices.append(skip_index_0)\n",
    "for i, value in enumerate(ini_concen):\n",
    "    if i == skip_index_0: \n",
    "        increase_0.append(0)        \n",
    "    else:\n",
    "        increase_0.append(ini_concen[i]/(1000-ini_concen[skip_index_0]) * corr_value_0)\n",
    "for a, b in zip(eq_concen_0, increase_0):\n",
    "        eq_concen_1.append(a - b)\n",
    "\n",
    "for a, b in zip(ini_concen, eq_concen_1):\n",
    "    delta_1.append(a - b)\n",
    "filtered_delta_1 = [value for i, value in enumerate(delta_1) if i not in skip_indices]\n",
    "corr_value_1 = max(filtered_delta_1)\n",
    "skip_index_1 = delta_1.index(corr_value_1)\n",
    "skip_indices.append(skip_index_1)\n",
    "for i, value in enumerate(ini_concen):\n",
    "    if i == skip_index_1: \n",
    "        increase_1.append(0)        \n",
    "    else:\n",
    "        increase_1.append(ini_concen[i]/(1000-ini_concen[skip_index_1]) * corr_value_1)\n",
    "for a, b in zip(eq_concen_1, increase_1):\n",
    "        eq_concen_2.append(a - b)\n",
    "\n",
    "for a, b in zip(ini_concen, eq_concen_2):\n",
    "    delta_2.append(a - b)\n",
    "filtered_delta_2 = [value for i, value in enumerate(delta_2) if i not in skip_indices] # 跳过的index不参比\n",
    "corr_value_2 = max(filtered_delta_2)\n",
    "skip_index_2 = delta_2.index(corr_value_2)\n",
    "skip_indices.append(skip_index_2)\n",
    "for i, value in enumerate(ini_concen):\n",
    "    if i == skip_index_2: \n",
    "        increase_2.append(0)        \n",
    "    else:\n",
    "        increase_2.append(ini_concen[i]/(1000-ini_concen[skip_index_2]) * corr_value_2)\n",
    "for a, b in zip(eq_concen_2, increase_2):\n",
    "        eq_concen_3.append(a - b)\n",
    "\n",
    "for a, b in zip(ini_concen, eq_concen_3):\n",
    "    delta_3.append(a - b)\n",
    "filtered_delta_3 = [value for i, value in enumerate(delta_3) if i not in skip_indices] # 跳过的index不参比\n",
    "corr_value_3 = max(filtered_delta_3)\n",
    "skip_index_3 = delta_3.index(corr_value_3)\n",
    "skip_indices.append(skip_index_3)\n",
    "for i, value in enumerate(ini_concen):\n",
    "    if i == skip_index_3: \n",
    "        increase_3.append(0)        \n",
    "    else:\n",
    "        increase_3.append(ini_concen[i]/(1000-ini_concen[skip_index_3]) * corr_value_3)\n",
    "for a, b in zip(eq_concen_3, increase_3):\n",
    "        eq_concen_4.append(a - b)\n"
   ]
  },
  {
   "cell_type": "code",
   "execution_count": 8,
   "metadata": {},
   "outputs": [
    {
     "data": {
      "text/plain": [
       "[4.9979318512691595, 4.994567433286304, 4.8668619386285235, 18.889892521775494]"
      ]
     },
     "execution_count": 8,
     "metadata": {},
     "output_type": "execute_result"
    }
   ],
   "source": [
    "eq_concen_4"
   ]
  },
  {
   "cell_type": "code",
   "execution_count": 9,
   "metadata": {},
   "outputs": [
    {
     "data": {
      "text/plain": [
       "[0.0027326880000000386,\n",
       " 0.11073151699999961,\n",
       " 0.2247394939999996,\n",
       " 1.023242660000001]"
      ]
     },
     "execution_count": 9,
     "metadata": {},
     "output_type": "execute_result"
    }
   ],
   "source": [
    "delta_0"
   ]
  },
  {
   "cell_type": "code",
   "execution_count": 10,
   "metadata": {},
   "outputs": [
    {
     "data": {
      "text/plain": [
       "[0.0052281785450540635, 0.005336995773882635, 0.005322072381746635, 0]"
      ]
     },
     "execution_count": 10,
     "metadata": {},
     "output_type": "execute_result"
    }
   ],
   "source": [
    "increase_0 "
   ]
  },
  {
   "cell_type": "code",
   "execution_count": 11,
   "metadata": {},
   "outputs": [
    {
     "data": {
      "text/plain": [
       "[4.999679985454946, 4.9957993842261175, 4.867512444618254, 18.89704094]"
      ]
     },
     "execution_count": 11,
     "metadata": {},
     "output_type": "execute_result"
    }
   ],
   "source": [
    "eq_concen_1"
   ]
  },
  {
   "cell_type": "code",
   "execution_count": 12,
   "metadata": {},
   "outputs": [
    {
     "data": {
      "text/plain": [
       "[0.007960866545054124,\n",
       " 0.1160685127738823,\n",
       " 0.23006156638174602,\n",
       " 1.023242660000001]"
      ]
     },
     "execution_count": 12,
     "metadata": {},
     "output_type": "execute_result"
    }
   ],
   "source": [
    "delta_1 "
   ]
  },
  {
   "cell_type": "code",
   "execution_count": 13,
   "metadata": {},
   "outputs": [
    {
     "data": {
      "text/plain": [
       "[0.0011579685285651104, 0.0011820700249587938, 0, 0.004606372974946668]"
      ]
     },
     "execution_count": 13,
     "metadata": {},
     "output_type": "execute_result"
    }
   ],
   "source": [
    "increase_1 "
   ]
  },
  {
   "cell_type": "code",
   "execution_count": 14,
   "metadata": {},
   "outputs": [
    {
     "data": {
      "text/plain": [
       "[4.998522016926381, 4.994617314201158, 4.867512444618254, 18.892434567025052]"
      ]
     },
     "execution_count": 14,
     "metadata": {},
     "output_type": "execute_result"
    }
   ],
   "source": [
    "eq_concen_2 "
   ]
  },
  {
   "cell_type": "code",
   "execution_count": 15,
   "metadata": {},
   "outputs": [
    {
     "name": "stdout",
     "output_type": "stream",
     "text": [
      "[4.9979318512691595, 4.994567433286304, 4.8668619386285235, 18.889892521775494]\n"
     ]
    }
   ],
   "source": [
    "import pandas as pd\n",
    "import numpy as np\n",
    "\n",
    "def calculate_eq_concen(ini_concen, eq_concen_0):\n",
    "    skip_indices = []\n",
    "    delta_0 = []\n",
    "    increase_0 = []\n",
    "    eq_concen_1 = []\n",
    "    delta_1 = []\n",
    "    increase_1 = []\n",
    "    eq_concen_2 = []\n",
    "    delta_2 = []\n",
    "    increase_2 = []\n",
    "    eq_concen_3 = []\n",
    "    delta_3 = []\n",
    "    increase_3 = []\n",
    "    eq_concen_4 = []\n",
    "\n",
    "    for a, b in zip(ini_concen, eq_concen_0):  # 各组分吸附前后浓度变化值\n",
    "        delta_0.append(a - b)\n",
    "    filtered_delta_0 = [value for i, value in enumerate(delta_0) if i not in skip_indices]  # 筛选出除跳过的索引外的delta值\n",
    "    corr_value_0 = max(filtered_delta_0)  # 筛选出的delta中的最大值\n",
    "    skip_index_0 = delta_0.index(corr_value_0)  # 找到最大值在原list中的索引\n",
    "    skip_indices.append(skip_index_0)\n",
    "    for i, value in enumerate(ini_concen):\n",
    "        if i == skip_index_0:\n",
    "            increase_0.append(0)\n",
    "        else:\n",
    "            increase_0.append(ini_concen[i] / (1000 - ini_concen[skip_index_0]) * corr_value_0)\n",
    "    for a, b in zip(eq_concen_0, increase_0):\n",
    "        eq_concen_1.append(a - b)\n",
    "\n",
    "    for a, b in zip(ini_concen, eq_concen_1):\n",
    "        delta_1.append(a - b)\n",
    "    filtered_delta_1 = [value for i, value in enumerate(delta_1) if i not in skip_indices]\n",
    "    corr_value_1 = max(filtered_delta_1)\n",
    "    skip_index_1 = delta_1.index(corr_value_1)\n",
    "    skip_indices.append(skip_index_1)\n",
    "    for i, value in enumerate(ini_concen):\n",
    "        if i == skip_index_1:\n",
    "            increase_1.append(0)\n",
    "        else:\n",
    "            increase_1.append(ini_concen[i] / (1000 - ini_concen[skip_index_1]) * corr_value_1)\n",
    "    for a, b in zip(eq_concen_1, increase_1):\n",
    "        eq_concen_2.append(a - b)\n",
    "\n",
    "    for a, b in zip(ini_concen, eq_concen_2):\n",
    "        delta_2.append(a - b)\n",
    "    filtered_delta_2 = [value for i, value in enumerate(delta_2) if i not in skip_indices]  # 跳过的index不参比\n",
    "    corr_value_2 = max(filtered_delta_2)\n",
    "    skip_index_2 = delta_2.index(corr_value_2)\n",
    "    skip_indices.append(skip_index_2)\n",
    "    for i, value in enumerate(ini_concen):\n",
    "        if i == skip_index_2:\n",
    "            increase_2.append(0)\n",
    "        else:\n",
    "            increase_2.append(ini_concen[i] / (1000 - ini_concen[skip_index_2]) * corr_value_2)\n",
    "    for a, b in zip(eq_concen_2, increase_2):\n",
    "        eq_concen_3.append(a - b)\n",
    "\n",
    "    for a, b in zip(ini_concen, eq_concen_3):\n",
    "        delta_3.append(a - b)\n",
    "    filtered_delta_3 = [value for i, value in enumerate(delta_3) if i not in skip_indices]  # 跳过的index不参比\n",
    "    corr_value_3 = max(filtered_delta_3)\n",
    "    skip_index_3 = delta_3.index(corr_value_3)\n",
    "    skip_indices.append(skip_index_3)\n",
    "    for i, value in enumerate(ini_concen):\n",
    "        if i == skip_index_3:\n",
    "            increase_3.append(0)\n",
    "        else:\n",
    "            increase_3.append(ini_concen[i] / (1000 - ini_concen[skip_index_3]) * corr_value_3)\n",
    "    for a, b in zip(eq_concen_3, increase_3):\n",
    "        eq_concen_4.append(a - b)\n",
    "    \n",
    "    return eq_concen_4\n",
    "\n",
    "ini_concen = [5.007640852 ,5.111867897 ,5.097574011, 19.9202836]\n",
    "eq_concen_0 = [5.004908164, 5.00113638, 4.872834517, 18.89704094]\n",
    "\n",
    "result = calculate_eq_concen(ini_concen, eq_concen_0)\n",
    "print(result)\n"
   ]
  },
  {
   "cell_type": "code",
   "execution_count": 2,
   "metadata": {},
   "outputs": [
    {
     "name": "stdout",
     "output_type": "stream",
     "text": [
      "[4.9979318512691595, 4.994617314201158, 4.866911680065574, 18.8900869012059]\n"
     ]
    }
   ],
   "source": [
    "import pandas as pd\n",
    "import numpy as np\n",
    "\n",
    "def calculate_eq_concen(ini_concen, eq_concen_0):\n",
    "    skip_indices = []\n",
    "    delta_0 = []\n",
    "    increase_0 = []\n",
    "    eq_concen_1 = []\n",
    "    delta_1 = []\n",
    "    increase_1 = []\n",
    "    eq_concen_2 = []\n",
    "    delta_2 = []\n",
    "    increase_2 = []\n",
    "    eq_concen_3 = []\n",
    "    delta_3 = []\n",
    "    increase_3 = []\n",
    "    eq_concen_4 = []\n",
    "\n",
    "    for a, b in zip(ini_concen, eq_concen_0):  # 各组分吸附前后浓度变化值\n",
    "        delta_0.append(a - b)\n",
    "    filtered_delta_0 = [value for i, value in enumerate(delta_0) if i not in skip_indices]  # 筛选出除跳过的索引外的delta值\n",
    "    corr_value_0 = max(filtered_delta_0)  # 筛选出的delta中的最大值\n",
    "    skip_index_0 = delta_0.index(corr_value_0)  # 找到最大值在原list中的索引\n",
    "    skip_indices.append(skip_index_0)\n",
    "    for i, value in enumerate(ini_concen):\n",
    "        if i == skip_index_0:\n",
    "            increase_0.append(0)\n",
    "        else:\n",
    "            increase_0.append(ini_concen[i] / (1000 - ini_concen[skip_index_0]) * corr_value_0)\n",
    "    for a, b in zip(eq_concen_0, increase_0):\n",
    "        eq_concen_1.append(a - b)\n",
    "\n",
    "    for a, b in zip(ini_concen, eq_concen_1):\n",
    "        delta_1.append(a - b)\n",
    "    filtered_delta_1 = [value for i, value in enumerate(delta_1) if i not in skip_indices]\n",
    "    corr_value_1 = max(filtered_delta_1)\n",
    "    skip_index_1 = delta_1.index(corr_value_1)\n",
    "    skip_indices.append(skip_index_1)\n",
    "    for i, value in enumerate(ini_concen):\n",
    "        if i == skip_index_1:\n",
    "            increase_1.append(0)\n",
    "        else:\n",
    "            increase_1.append(ini_concen[i] / (1000 - ini_concen[skip_index_1]) * corr_value_1)\n",
    "    for a, b in zip(eq_concen_1, increase_1):\n",
    "        eq_concen_2.append(a - b)\n",
    "\n",
    "    for a, b in zip(ini_concen, eq_concen_2):\n",
    "        delta_2.append(a - b)\n",
    "    filtered_delta_2 = [value for i, value in enumerate(delta_2) if i not in skip_indices]  # 跳过的index不参比\n",
    "    corr_value_2 = max(filtered_delta_2)\n",
    "    skip_index_2 = delta_2.index(corr_value_2)\n",
    "    skip_indices.append(skip_index_2)\n",
    "    for i, value in enumerate(ini_concen):\n",
    "        if i == skip_index_2:\n",
    "            increase_2.append(0)\n",
    "        else:\n",
    "            increase_2.append(ini_concen[i] / (1000 - ini_concen[skip_index_2]) * corr_value_2)\n",
    "    for a, b in zip(eq_concen_2, increase_2):\n",
    "        eq_concen_3.append(a - b)\n",
    "    \n",
    "    return eq_concen_3\n",
    "\n",
    "def iterative_calculations(ini_concen, eq_concen_0, iterations=1):\n",
    "    eq_concen = eq_concen_0\n",
    "    for _ in range(iterations):\n",
    "        eq_concen = calculate_eq_concen(ini_concen, eq_concen)\n",
    "    return eq_concen\n",
    "\n",
    "ini_concen = [5.007640852 ,5.111867897 ,5.097574011, 19.9202836]\n",
    "eq_concen_0 = [5.004908164, 5.00113638, 4.872834517, 18.89704094]\n",
    "\n",
    "result = iterative_calculations(ini_concen, eq_concen_0)\n",
    "print(result)\n"
   ]
  },
  {
   "cell_type": "code",
   "execution_count": 4,
   "metadata": {},
   "outputs": [],
   "source": [
    "import pandas as pd\n",
    "import numpy as np\n",
    "\n",
    "def calculate_eq_concen(ini_concen, eq_concen_0):\n",
    "    skip_indices = []\n",
    "    delta_0 = []\n",
    "    increase_0 = []\n",
    "    eq_concen_1 = []\n",
    "\n",
    "    delta_1 = []\n",
    "    increase_1 = []\n",
    "    eq_concen_2 = []\n",
    "\n",
    "    delta_2 = []\n",
    "    increase_2 = []\n",
    "    eq_concen_3 = []\n",
    "\n",
    "    delta_3 = []\n",
    "    increase_3 = []\n",
    "    eq_concen_4 = []\n",
    "\n",
    "    delta_4 = []\n",
    "    increase_4 = []\n",
    "\n",
    "\n",
    "    for a, b in zip(ini_concen, eq_concen_0):  # 各组分吸附前后浓度变化值\n",
    "        delta_0.append(a - b)\n",
    "    filtered_delta_0 = [value for i, value in enumerate(delta_0) if i not in skip_indices]  # 筛选出除跳过的索引外的delta值\n",
    "    corr_value_0 = max(filtered_delta_0)  # 筛选出的delta中的最大值\n",
    "    skip_index_0 = delta_0.index(corr_value_0)  # 找到最大值在原list中的索引\n",
    "    skip_indices.append(skip_index_0)\n",
    "    for i, value in enumerate(ini_concen):\n",
    "        if i == skip_index_0:\n",
    "            increase_0.append(0)\n",
    "        else:\n",
    "            increase_0.append(ini_concen[i] / (1000 - ini_concen[skip_index_0]) * corr_value_0)\n",
    "    for a, b in zip(eq_concen_0, increase_0):\n",
    "        eq_concen_1.append(a - b)\n",
    "\n",
    "    for a, b in zip(ini_concen, eq_concen_1):\n",
    "        delta_1.append(a - b)\n",
    "    filtered_delta_1 = [value for i, value in enumerate(delta_1) if i not in skip_indices]\n",
    "    corr_value_1 = max(filtered_delta_1)\n",
    "    skip_index_1 = delta_1.index(corr_value_1)\n",
    "    skip_indices.append(skip_index_1)\n",
    "    for i, value in enumerate(ini_concen):\n",
    "        if i == skip_index_1:\n",
    "            increase_1.append(0)\n",
    "        else:\n",
    "            increase_1.append(ini_concen[i] / (1000 - ini_concen[skip_index_1]) * corr_value_1)\n",
    "    for a, b in zip(eq_concen_1, increase_1):\n",
    "        eq_concen_2.append(a - b)\n",
    "\n",
    "    for a, b in zip(ini_concen, eq_concen_2):\n",
    "        delta_2.append(a - b)\n",
    "    filtered_delta_2 = [value for i, value in enumerate(delta_2) if i not in skip_indices]  # 跳过的index不参比\n",
    "    corr_value_2 = max(filtered_delta_2)\n",
    "    skip_index_2 = delta_2.index(corr_value_2)\n",
    "    skip_indices.append(skip_index_2)\n",
    "    for i, value in enumerate(ini_concen):\n",
    "        if i == skip_index_2:\n",
    "            increase_2.append(0)\n",
    "        else:\n",
    "            increase_2.append(ini_concen[i] / (1000 - ini_concen[skip_index_2]) * corr_value_2)\n",
    "    for a, b in zip(eq_concen_2, increase_2):\n",
    "        eq_concen_3.append(a - b)\n",
    "\n",
    "    for a, b in zip(ini_concen, eq_concen_3):\n",
    "        delta_3.append(a - b)\n",
    "    filtered_delta_3 = [value for i, value in enumerate(delta_3) if i not in skip_indices]  # 跳过的index不参比\n",
    "    corr_value_3 = max(filtered_delta_3)\n",
    "    skip_index_3 = delta_3.index(corr_value_3)\n",
    "    skip_indices.append(skip_index_3)\n",
    "    for i, value in enumerate(ini_concen):\n",
    "        if i == skip_index_3:\n",
    "            increase_3.append(0)\n",
    "        else:\n",
    "            increase_3.append(ini_concen[i] / (1000 - ini_concen[skip_index_3]) * corr_value_3)\n",
    "    for a, b in zip(eq_concen_3, increase_3):\n",
    "        eq_concen_4.append(a - b)\n",
    "\n",
    "    for a, b in zip(ini_concen, eq_concen_4):\n",
    "        delta_4.append(a - b)\n",
    "    corr_value_4 = max(delta_4)\n",
    "    skip_index_4 = delta_4.index(corr_value_4)\n",
    "    skip_indices.append(skip_index_4)\n",
    "    for i, value in enumerate(ini_concen):\n",
    "        if i == skip_index_4:\n",
    "            increase_4.append(0)\n",
    "        else:\n",
    "            increase_4.append(ini_concen[i] / (1000 - ini_concen[skip_index_4]) * corr_value_4)\n",
    "\n",
    "    return eq_concen_4, increase_4\n",
    "\n",
    "ini_concen = [5.007640852 ,5.111867897 ,5.097574011, 19.9202836]\n",
    "eq_concen_0 = [5.004908164, 5.00113638, 4.872834517, 18.89704094]\n",
    "eq_concen_4, increase_4 = calculate_eq_concen(ini_concen, eq_concen_0)\n"
   ]
  },
  {
   "cell_type": "code",
   "execution_count": 5,
   "metadata": {},
   "outputs": [
    {
     "data": {
      "text/plain": [
       "[0.005264702830302725, 0.005374280261077624, 0.005359252613467838, 0]"
      ]
     },
     "execution_count": 5,
     "metadata": {},
     "output_type": "execute_result"
    }
   ],
   "source": [
    "increase_4"
   ]
  },
  {
   "cell_type": "code",
   "execution_count": 8,
   "metadata": {},
   "outputs": [
    {
     "name": "stdout",
     "output_type": "stream",
     "text": [
      "[4.9979318512691595, 4.994567433286304, 4.8668619386285235, 18.889892521775494]\n",
      "[0.005264702830302725, 0.005374280261077624, 0.005359252613467838, 0]\n"
     ]
    }
   ],
   "source": [
    "import pandas as pd\n",
    "import numpy as np\n",
    "\n",
    "def calculate_eq_concen(ini_concen, eq_concen_0):\n",
    "    skip_indices = []\n",
    "    delta_1 = []\n",
    "    increase_1 = []\n",
    "    eq_concen_1 = []\n",
    "\n",
    "    delta_2 = []\n",
    "    increase_2 = []\n",
    "    eq_concen_2 = []\n",
    "\n",
    "    delta_3 = []\n",
    "    increase_3 = []\n",
    "    eq_concen_3 = []\n",
    "\n",
    "    delta_4 = []\n",
    "    increase_4 = []\n",
    "    eq_concen_4 = []\n",
    "\n",
    "    delta_5 = []\n",
    "    increase_5 = []\n",
    "\n",
    "    for a, b in zip(ini_concen, eq_concen_0):  # 各组分吸附前后浓度变化值\n",
    "        delta_1.append(a - b)\n",
    "    filtered_delta_1 = [value for i, value in enumerate(delta_1) if i not in skip_indices]  # 筛选出除跳过的索引外的delta值\n",
    "    corr_value_1 = max(filtered_delta_1)  # 筛选出的delta中的最大值\n",
    "    skip_index_1 = delta_1.index(corr_value_1)  # 找到最大值在原list中的索引\n",
    "    skip_indices.append(skip_index_1)\n",
    "    for i, value in enumerate(ini_concen):\n",
    "        if i == skip_index_1:\n",
    "            increase_1.append(0)\n",
    "        else:\n",
    "            increase_1.append(ini_concen[i] / (1000 - ini_concen[skip_index_1]) * corr_value_1)\n",
    "    for a, b in zip(eq_concen_0, increase_1):\n",
    "        eq_concen_1.append(a - b)\n",
    "\n",
    "    for a, b in zip(ini_concen, eq_concen_1):\n",
    "        delta_2.append(a - b)\n",
    "    filtered_delta_2 = [value for i, value in enumerate(delta_2) if i not in skip_indices]\n",
    "    corr_value_2 = max(filtered_delta_2)\n",
    "    skip_index_2 = delta_2.index(corr_value_2)\n",
    "    skip_indices.append(skip_index_2)\n",
    "    for i, value in enumerate(ini_concen):\n",
    "        if i == skip_index_2:\n",
    "            increase_2.append(0)\n",
    "        else:\n",
    "            increase_2.append(ini_concen[i] / (1000 - ini_concen[skip_index_2]) * corr_value_2)\n",
    "    for a, b in zip(eq_concen_1, increase_2):\n",
    "        eq_concen_2.append(a - b)\n",
    "\n",
    "    for a, b in zip(ini_concen, eq_concen_2):\n",
    "        delta_3.append(a - b)\n",
    "    filtered_delta_3 = [value for i, value in enumerate(delta_3) if i not in skip_indices]  # 跳过的index不参比\n",
    "    corr_value_3 = max(filtered_delta_3)\n",
    "    skip_index_3 = delta_3.index(corr_value_3)\n",
    "    skip_indices.append(skip_index_3)\n",
    "    for i, value in enumerate(ini_concen):\n",
    "        if i == skip_index_3:\n",
    "            increase_3.append(0)\n",
    "        else:\n",
    "            increase_3.append(ini_concen[i] / (1000 - ini_concen[skip_index_3]) * corr_value_3)\n",
    "    for a, b in zip(eq_concen_2, increase_3):\n",
    "        eq_concen_3.append(a - b)\n",
    "\n",
    "    for a, b in zip(ini_concen, eq_concen_3):\n",
    "        delta_4.append(a - b)\n",
    "    filtered_delta_4 = [value for i, value in enumerate(delta_4) if i not in skip_indices]  # 跳过的index不参比\n",
    "    corr_value_4 = max(filtered_delta_4)\n",
    "    skip_index_4 = delta_4.index(corr_value_4)\n",
    "    skip_indices.append(skip_index_4)\n",
    "    for i, value in enumerate(ini_concen):\n",
    "        if i == skip_index_4:\n",
    "            increase_4.append(0)\n",
    "        else:\n",
    "            increase_4.append(ini_concen[i] / (1000 - ini_concen[skip_index_4]) * corr_value_4)\n",
    "    for a, b in zip(eq_concen_3, increase_4):\n",
    "        eq_concen_4.append(a - b)\n",
    "\n",
    "\n",
    "\n",
    "    for a, b in zip(ini_concen, eq_concen_4):\n",
    "        delta_5.append(a - b)\n",
    "    corr_value_5 = max(delta_5)\n",
    "    skip_index_5 = delta_5.index(corr_value_5)\n",
    "    skip_indices.append(skip_index_5)\n",
    "    for i, value in enumerate(ini_concen):\n",
    "        if i == skip_index_5:\n",
    "            increase_5.append(0)\n",
    "        else:\n",
    "            increase_5.append(ini_concen[i] / (1000 - ini_concen[skip_index_5]) * corr_value_5)\n",
    "\n",
    "    return eq_concen_4, increase_5\n",
    "\n",
    "ini_concen = [5.007640852 ,5.111867897 ,5.097574011, 19.9202836]\n",
    "eq_concen_0 = [5.004908164, 5.00113638, 4.872834517, 18.89704094]\n",
    "eq_concen_4, increase_5 = calculate_eq_concen(ini_concen, eq_concen_0)\n",
    "\n",
    "print(eq_concen_4)\n",
    "print(increase_5)\n"
   ]
  }
 ],
 "metadata": {
  "kernelspec": {
   "display_name": "Python 3",
   "language": "python",
   "name": "python3"
  },
  "language_info": {
   "codemirror_mode": {
    "name": "ipython",
    "version": 3
   },
   "file_extension": ".py",
   "mimetype": "text/x-python",
   "name": "python",
   "nbconvert_exporter": "python",
   "pygments_lexer": "ipython3",
   "version": "3.8.3"
  }
 },
 "nbformat": 4,
 "nbformat_minor": 2
}
