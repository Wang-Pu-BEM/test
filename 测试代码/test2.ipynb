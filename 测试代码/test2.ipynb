{
 "cells": [
  {
   "cell_type": "code",
   "execution_count": 22,
   "metadata": {},
   "outputs": [
    {
     "name": "stdout",
     "output_type": "stream",
     "text": [
      "Converged eq_concen_4: [4.997138144205801, 4.844265612209664, 4.666720237489337, 19.18291506767155]\n"
     ]
    }
   ],
   "source": [
    "import pandas as pd\n",
    "import numpy as np\n",
    "\n",
    "def calculate_eq_concen(ini_concen, eq_concen, eq_concen_0):\n",
    "    skip_indices = []\n",
    "    delta_1 = []\n",
    "    increase_1 = []\n",
    "    eq_concen_1 = []\n",
    "\n",
    "    delta_2 = []\n",
    "    increase_2 = []\n",
    "    eq_concen_2 = []\n",
    "\n",
    "    delta_3 = []\n",
    "    increase_3 = []\n",
    "    eq_concen_3 = []\n",
    "\n",
    "    delta_4 = []\n",
    "    increase_4 = []\n",
    "    eq_concen_4 = []\n",
    "\n",
    "    for a, b in zip(ini_concen, eq_concen_0):  # 各组分吸附前后浓度变化值\n",
    "        delta_1.append(a - b)\n",
    "    filtered_delta_1 = [value for i, value in enumerate(delta_1) if i not in skip_indices]  # 筛选出除跳过的索引外的delta值\n",
    "    corr_value_1 = max(filtered_delta_1)  # 筛选出的delta中的最大值\n",
    "    skip_index_1 = delta_1.index(corr_value_1)  # 找到最大值在原list中的索引\n",
    "    skip_indices.append(skip_index_1)\n",
    "    for i, value in enumerate(ini_concen):\n",
    "        if i == skip_index_1:\n",
    "            increase_1.append(0)\n",
    "        else:\n",
    "            increase_1.append(ini_concen[i] / (1000 - ini_concen[skip_index_1]) * corr_value_1)\n",
    "    for a, b in zip(eq_concen, increase_1): # 这个位置始终用实验得到的平衡数值(定值，不参与迭代）减去increase_1\n",
    "        eq_concen_1.append(a - b)\n",
    "\n",
    "    for a, b in zip(ini_concen, eq_concen_1):\n",
    "        delta_2.append(a - b)\n",
    "    filtered_delta_2 = [value for i, value in enumerate(delta_2) if i not in skip_indices]\n",
    "    corr_value_2 = max(filtered_delta_2)\n",
    "    skip_index_2 = delta_2.index(corr_value_2)\n",
    "    skip_indices.append(skip_index_2)\n",
    "    for i, value in enumerate(ini_concen):\n",
    "        if i == skip_index_2:\n",
    "            increase_2.append(0)\n",
    "        else:\n",
    "            increase_2.append(ini_concen[i] / (1000 - ini_concen[skip_index_2]) * corr_value_2)\n",
    "    for a, b in zip(eq_concen_1, increase_2):\n",
    "        eq_concen_2.append(a - b)\n",
    "\n",
    "    for a, b in zip(ini_concen, eq_concen_2):\n",
    "        delta_3.append(a - b)\n",
    "    filtered_delta_3 = [value for i, value in enumerate(delta_3) if i not in skip_indices]  # 跳过的index不参比\n",
    "    corr_value_3 = max(filtered_delta_3)\n",
    "    skip_index_3 = delta_3.index(corr_value_3)\n",
    "    skip_indices.append(skip_index_3)\n",
    "    for i, value in enumerate(ini_concen):\n",
    "        if i == skip_index_3:\n",
    "            increase_3.append(0)\n",
    "        else:\n",
    "            increase_3.append(ini_concen[i] / (1000 - ini_concen[skip_index_3]) * corr_value_3)\n",
    "    for a, b in zip(eq_concen_2, increase_3):\n",
    "        eq_concen_3.append(a - b)\n",
    "\n",
    "    for a, b in zip(ini_concen, eq_concen_3):\n",
    "        delta_4.append(a - b)\n",
    "    filtered_delta_4 = [value for i, value in enumerate(delta_4) if i not in skip_indices]  # 跳过的index不参比\n",
    "    corr_value_4 = max(filtered_delta_4)\n",
    "    skip_index_4 = delta_4.index(corr_value_4)\n",
    "    skip_indices.append(skip_index_4)\n",
    "    for i, value in enumerate(ini_concen):\n",
    "        if i == skip_index_4:\n",
    "            increase_4.append(0)\n",
    "        else:\n",
    "            increase_4.append(ini_concen[i] / (1000 - ini_concen[skip_index_4]) * corr_value_4)\n",
    "    for a, b in zip(eq_concen_3, increase_4):\n",
    "        eq_concen_4.append(a - b)\n",
    "        \n",
    "    return eq_concen_4\n",
    "\n",
    "ini_concen = [5.007640852, 5.111867897, 5.097574011, 19.9202836]\n",
    "eq_concen = [5.004413786, 4.850371946, 4.671980089, 19.19708054]\n",
    "eq_concen_0 = eq_concen # eq_concen_0是迭代子，为其赋初值\n",
    "\n",
    "tolerance = 1e-6  # 收敛容差\n",
    "max_iterations = 10000  # 最大迭代次数\n",
    "iteration = 0\n",
    "while True:\n",
    "    eq_concen_4 = calculate_eq_concen(ini_concen, eq_concen, eq_concen_0)\n",
    "    if np.all(np.abs(np.array(eq_concen_4) - np.array(eq_concen_0)) < tolerance):\n",
    "        break\n",
    "    eq_concen_0 = eq_concen_4\n",
    "    iteration += 1\n",
    "    if iteration >= max_iterations:\n",
    "        print(\"Reached maximum iterations. Consider increasing max_iterations or checking convergence criteria.\")\n",
    "        break\n",
    "\n",
    "print(\"Converged eq_concen_4:\", eq_concen_4)\n"
   ]
  },
  {
   "cell_type": "code",
   "execution_count": 31,
   "metadata": {},
   "outputs": [],
   "source": [
    "def iterate_convergence(ini_concen_, eq_concen_, tolerance, max_iterations=100):\n",
    "    ini_concen, eq_concen = ini_concen_, eq_concen_\n",
    "    eq_concen_0 = eq_concen \n",
    "    convergence_history = [] \n",
    "    iterations = 0\n",
    "    eq_concen_4 = []\n",
    "    while iterations < max_iterations:\n",
    "        eq_concen_4 = calculate_eq_concen(ini_concen, eq_concen, eq_concen_0)\n",
    "        if np.all(np.abs(np.array(eq_concen_4) - np.array(eq_concen_0)) < tolerance):\n",
    "            break\n",
    "        eq_concen_0 = eq_concen_4\n",
    "        iterations += 1\n",
    "        convergence_history.append(eq_concen_0)\n",
    "        if iteration >= max_iterations:\n",
    "            print(\"Reached maximum iterations. Consider increasing max_iterations or checking convergence criteria.\")\n",
    "            break\n",
    "    return eq_concen_4, iterations, convergence_history"
   ]
  },
  {
   "cell_type": "code",
   "execution_count": 32,
   "metadata": {},
   "outputs": [],
   "source": [
    "\n",
    "ini_concen = [5.007640852, 5.111867897, 5.097574011, 19.9202836]\n",
    "eq_concen = [5.004413786, 4.850371946, 4.671980089, 19.19708054]\n",
    "tolerance = 1e-6 \n",
    "eq_concen_4, iterations, convergence_history = iterate_convergence(ini_concen,eq_concen,tolerance)"
   ]
  },
  {
   "cell_type": "code",
   "execution_count": 30,
   "metadata": {},
   "outputs": [
    {
     "data": {
      "text/plain": [
       "[4.997138144205801, 4.844265612209664, 4.666720237489337, 19.18291506767155]"
      ]
     },
     "execution_count": 30,
     "metadata": {},
     "output_type": "execute_result"
    }
   ],
   "source": [
    "eq_concen_4"
   ]
  },
  {
   "cell_type": "code",
   "execution_count": 33,
   "metadata": {},
   "outputs": [
    {
     "data": {
      "text/plain": [
       "2"
      ]
     },
     "execution_count": 33,
     "metadata": {},
     "output_type": "execute_result"
    }
   ],
   "source": [
    "iterations"
   ]
  },
  {
   "cell_type": "code",
   "execution_count": 34,
   "metadata": {},
   "outputs": [
    {
     "data": {
      "text/plain": [
       "[[4.997211266203878, 4.844340250241237, 4.666794669820473, 19.18291949373241],\n",
       " [4.997138167045939, 4.844265635523347, 4.666720260738766, 19.18291506905406]]"
      ]
     },
     "execution_count": 34,
     "metadata": {},
     "output_type": "execute_result"
    }
   ],
   "source": [
    "convergence_history "
   ]
  }
 ],
 "metadata": {
  "kernelspec": {
   "display_name": "base",
   "language": "python",
   "name": "python3"
  },
  "language_info": {
   "codemirror_mode": {
    "name": "ipython",
    "version": 3
   },
   "file_extension": ".py",
   "mimetype": "text/x-python",
   "name": "python",
   "nbconvert_exporter": "python",
   "pygments_lexer": "ipython3",
   "version": "3.8.3"
  }
 },
 "nbformat": 4,
 "nbformat_minor": 2
}
