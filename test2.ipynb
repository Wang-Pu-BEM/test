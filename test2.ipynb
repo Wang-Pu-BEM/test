{
 "cells": [
  {
   "cell_type": "code",
   "execution_count": 10,
   "metadata": {},
   "outputs": [
    {
     "name": "stdout",
     "output_type": "stream",
     "text": [
      "[4.9979318512691595, 4.994567433286304, 4.8668619386285235, 18.889892521775494]\n"
     ]
    }
   ],
   "source": [
    "import pandas as pd\n",
    "import numpy as np\n",
    "\n",
    "def calculate_eq_concen(ini_concen, eq_concen,  eq_concen_0):\n",
    "    skip_indices = []\n",
    "    delta_1 = []\n",
    "    increase_1 = []\n",
    "    eq_concen_1 = []\n",
    "\n",
    "    delta_2 = []\n",
    "    increase_2 = []\n",
    "    eq_concen_2 = []\n",
    "\n",
    "    delta_3 = []\n",
    "    increase_3 = []\n",
    "    eq_concen_3 = []\n",
    "\n",
    "    delta_4 = []\n",
    "    increase_4 = []\n",
    "    eq_concen_4 = []\n",
    "\n",
    "\n",
    "    for a, b in zip(ini_concen, eq_concen_0):  # 各组分吸附前后浓度变化值\n",
    "        delta_1.append(a - b)\n",
    "    filtered_delta_1 = [value for i, value in enumerate(delta_1) if i not in skip_indices]  # 筛选出除跳过的索引外的delta值\n",
    "    corr_value_1 = max(filtered_delta_1)  # 筛选出的delta中的最大值\n",
    "    skip_index_1 = delta_1.index(corr_value_1)  # 找到最大值在原list中的索引\n",
    "    skip_indices.append(skip_index_1)\n",
    "    for i, value in enumerate(ini_concen):\n",
    "        if i == skip_index_1:\n",
    "            increase_1.append(0)\n",
    "        else:\n",
    "            increase_1.append(ini_concen[i] / (1000 - ini_concen[skip_index_1]) * corr_value_1)\n",
    "    for a, b in zip(eq_concen, increase_1):\n",
    "        eq_concen_1.append(a - b)\n",
    "\n",
    "    for a, b in zip(ini_concen, eq_concen_1):\n",
    "        delta_2.append(a - b)\n",
    "    filtered_delta_2 = [value for i, value in enumerate(delta_2) if i not in skip_indices]\n",
    "    corr_value_2 = max(filtered_delta_2)\n",
    "    skip_index_2 = delta_2.index(corr_value_2)\n",
    "    skip_indices.append(skip_index_2)\n",
    "    for i, value in enumerate(ini_concen):\n",
    "        if i == skip_index_2:\n",
    "            increase_2.append(0)\n",
    "        else:\n",
    "            increase_2.append(ini_concen[i] / (1000 - ini_concen[skip_index_2]) * corr_value_2)\n",
    "    for a, b in zip(eq_concen_1, increase_2):\n",
    "        eq_concen_2.append(a - b)\n",
    "\n",
    "    for a, b in zip(ini_concen, eq_concen_2):\n",
    "        delta_3.append(a - b)\n",
    "    filtered_delta_3 = [value for i, value in enumerate(delta_3) if i not in skip_indices]  # 跳过的index不参比\n",
    "    corr_value_3 = max(filtered_delta_3)\n",
    "    skip_index_3 = delta_3.index(corr_value_3)\n",
    "    skip_indices.append(skip_index_3)\n",
    "    for i, value in enumerate(ini_concen):\n",
    "        if i == skip_index_3:\n",
    "            increase_3.append(0)\n",
    "        else:\n",
    "            increase_3.append(ini_concen[i] / (1000 - ini_concen[skip_index_3]) * corr_value_3)\n",
    "    for a, b in zip(eq_concen_2, increase_3):\n",
    "        eq_concen_3.append(a - b)\n",
    "\n",
    "    for a, b in zip(ini_concen, eq_concen_3):\n",
    "        delta_4.append(a - b)\n",
    "    filtered_delta_4 = [value for i, value in enumerate(delta_4) if i not in skip_indices]  # 跳过的index不参比\n",
    "    corr_value_4 = max(filtered_delta_4)\n",
    "    skip_index_4 = delta_4.index(corr_value_4)\n",
    "    skip_indices.append(skip_index_4)\n",
    "    for i, value in enumerate(ini_concen):\n",
    "        if i == skip_index_4:\n",
    "            increase_4.append(0)\n",
    "        else:\n",
    "            increase_4.append(ini_concen[i] / (1000 - ini_concen[skip_index_4]) * corr_value_4)\n",
    "    for a, b in zip(eq_concen_3, increase_4):\n",
    "        eq_concen_4.append(a - b)\n",
    "        \n",
    "    return eq_concen_4\n",
    "\n",
    "\n",
    "ini_concen = [5.007640852 ,5.111867897 ,5.097574011, 19.9202836]\n",
    "eq_concen_0 = [5.004908164, 5.00113638, 4.872834517, 18.89704094]\n",
    "eq_concen_4 = calculate_eq_concen(ini_concen, eq_concen_0, eq_concen_0)\n",
    "\n",
    "print(eq_concen_4)\n"
   ]
  },
  {
   "cell_type": "code",
   "execution_count": 11,
   "metadata": {},
   "outputs": [
    {
     "data": {
      "text/plain": [
       "[4.997894951216512, 4.994529768187334, 4.866824377333566, 18.889890288222215]"
      ]
     },
     "execution_count": 11,
     "metadata": {},
     "output_type": "execute_result"
    }
   ],
   "source": [
    "calculate_eq_concen(ini_concen, eq_concen_0, eq_concen_4)"
   ]
  }
 ],
 "metadata": {
  "kernelspec": {
   "display_name": "base",
   "language": "python",
   "name": "python3"
  },
  "language_info": {
   "codemirror_mode": {
    "name": "ipython",
    "version": 3
   },
   "file_extension": ".py",
   "mimetype": "text/x-python",
   "name": "python",
   "nbconvert_exporter": "python",
   "pygments_lexer": "ipython3",
   "version": "3.8.3"
  }
 },
 "nbformat": 4,
 "nbformat_minor": 2
}
